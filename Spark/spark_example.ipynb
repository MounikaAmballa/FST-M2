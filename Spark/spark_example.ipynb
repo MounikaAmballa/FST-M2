{
 "cells": [
  {
   "cell_type": "code",
   "execution_count": 1,
   "metadata": {},
   "outputs": [],
   "source": [
    "import findspark\n",
    "from pyspark.sql import SparkSession\n",
    "from pyspark.sql.functions import *\n",
    "\n",
    "findspark.init()\n",
    "spark=SparkSession.builder.master(\"local\").appName(\"FSTExample\").getOrCreate()"
   ]
  },
  {
   "cell_type": "code",
   "execution_count": 7,
   "metadata": {},
   "outputs": [
    {
     "name": "stdout",
     "output_type": "stream",
     "text": [
      "+-------+-----+\n",
      "|   word|count|\n",
      "+-------+-----+\n",
      "|example|  533|\n",
      "|     is|  533|\n",
      "|   file|  267|\n",
      "|   i...|    1|\n",
      "|     an|  533|\n",
      "|   This|  534|\n",
      "|   line|  266|\n",
      "+-------+-----+\n",
      "\n"
     ]
    },
    {
     "name": "stderr",
     "output_type": "stream",
     "text": [
      "<>:1: SyntaxWarning: invalid escape sequence '\\s'\n",
      "<>:2: SyntaxWarning: invalid escape sequence '\\s'\n",
      "<>:1: SyntaxWarning: invalid escape sequence '\\s'\n",
      "<>:2: SyntaxWarning: invalid escape sequence '\\s'\n",
      "C:\\Users\\002G17744\\AppData\\Local\\Temp\\ipykernel_8128\\1929379301.py:1: SyntaxWarning: invalid escape sequence '\\s'\n",
      "  inputFile=spark.read.text(\".\\sampleData\\simpletext.txt\")\n",
      "C:\\Users\\002G17744\\AppData\\Local\\Temp\\ipykernel_8128\\1929379301.py:2: SyntaxWarning: invalid escape sequence '\\s'\n",
      "  words=inputFile.select(explode(split(inputFile.value,'\\s+')).alias('word'))\n"
     ]
    }
   ],
   "source": [
    "inputFile=spark.read.text(\".\\sampleData\\simpletext.txt\")\n",
    "words=inputFile.select(explode(split(inputFile.value,'\\s+')).alias('word'))\n",
    "words.groupBy('word').count().show()"
   ]
  }
 ],
 "metadata": {
  "kernelspec": {
   "display_name": "Python 3",
   "language": "python",
   "name": "python3"
  },
  "language_info": {
   "codemirror_mode": {
    "name": "ipython",
    "version": 3
   },
   "file_extension": ".py",
   "mimetype": "text/x-python",
   "name": "python",
   "nbconvert_exporter": "python",
   "pygments_lexer": "ipython3",
   "version": "3.12.1"
  }
 },
 "nbformat": 4,
 "nbformat_minor": 2
}
